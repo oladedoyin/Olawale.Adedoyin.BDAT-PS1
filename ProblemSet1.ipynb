{
 "cells": [
  {
   "cell_type": "markdown",
   "id": "e05e052b",
   "metadata": {},
   "source": [
    "Question1"
   ]
  },
  {
   "cell_type": "code",
   "execution_count": 6,
   "id": "3a54930d",
   "metadata": {},
   "outputs": [
    {
     "name": "stdout",
     "output_type": "stream",
     "text": [
      "5 is int data type\n",
      "5.0 is float data type\n",
      "True is bool data type\n",
      "5 is str data type\n",
      "10 is int data type\n",
      "52 is str data type\n",
      "2.5 is float data type\n",
      "1 is int data type\n",
      "{1, 2, 5} is set data type\n",
      "False is bool data type\n",
      "3.141592653589793 is float data type\n"
     ]
    }
   ],
   "source": [
    "from math import pi\n",
    "# data type\n",
    "data = [\n",
    "    5,\n",
    "    5.0,\n",
    "    5 > 1,\n",
    "    '5',\n",
    "    5 * 2,\n",
    "    '5' + '2',\n",
    "    5 / 2,\n",
    "    5 % 2,\n",
    "    {5, 2, 1},\n",
    "    5 == 3,\n",
    "    pi]\n",
    "\n",
    "#Loop through each input and print the data type\n",
    "for item in data:\n",
    "    print(f'{item} is {type(item).__name__} data type')\n"
   ]
  },
  {
   "cell_type": "markdown",
   "id": "120447d1",
   "metadata": {},
   "source": [
    "Question2"
   ]
  },
  {
   "cell_type": "code",
   "execution_count": 16,
   "id": "4ed49a5e",
   "metadata": {},
   "outputs": [
    {
     "name": "stdout",
     "output_type": "stream",
     "text": [
      "\n",
      "a.\n",
      "34\n",
      "\n",
      "b.\n",
      "True\n",
      "\n",
      "c.\n",
      "Supercalifragilisticexpialidocious\n",
      "\n",
      "d.\n",
      "First composer is  Bartok\n",
      "Last composer is  Buxtehude\n"
     ]
    }
   ],
   "source": [
    "#a: How many letters are in 'supercalifragilisticexpialidocious'?\n",
    "word = 'Supercalifragilisticexpialidocious'\n",
    "letters_count = len(word)\n",
    "print(\"\\na.\")\n",
    "print(letters_count)\n",
    "\n",
    "#b: Does 'Supercalifragilisticexpialidocious' contain 'ice' as a substring?\n",
    "substring = 'ice'\n",
    "word_substring = substring in word\n",
    "print(\"\\nb.\")\n",
    "print(word_substring)\n",
    "\n",
    "#c: Which of the following words is the longest?\n",
    "words = ['Supercalifragilisticexpialidocious', 'Honorificabilitudinitatibus', 'Bababadalgharaghtakamminarronnkonn']\n",
    "longest_word = max(words, key=len)\n",
    "print(\"\\nc.\")\n",
    "print(longest_word)\n",
    "\n",
    "#d: Which composer comes first and last in the dictionary?\n",
    "composers = ['Berlioz', 'Borodin', 'Brian', 'Bartok', 'Bellini', 'Buxtehude', 'Bernstein']\n",
    "composers.sort()\n",
    "first_composer = composers[0]\n",
    "last_composer = composers[-1]\n",
    "print(\"\\nd.\")\n",
    "print(\"First composer is \", first_composer)\n",
    "print(\"Last composer is \", last_composer)"
   ]
  },
  {
   "cell_type": "markdown",
   "id": "f60dc6ce",
   "metadata": {},
   "source": [
    "Question3"
   ]
  },
  {
   "cell_type": "code",
   "execution_count": 23,
   "id": "c527e229",
   "metadata": {},
   "outputs": [
    {
     "name": "stdout",
     "output_type": "stream",
     "text": [
      "Enter the length of side 1: 2\n",
      "Enter the length of side 2: 2\n",
      "Enter the length of side 3: 2\n",
      "Area of the triangle: 1.7320508075688772\n"
     ]
    }
   ],
   "source": [
    "import math\n",
    "\n",
    "def triangleArea(a, b, c):\n",
    "    # Calculate the semi-perimeter\n",
    "    s = (a + b + c) / 2\n",
    "    \n",
    "    # Calculate the area using Heron's formula\n",
    "    area = math.sqrt(s * (s - a) * (s - b) * (s - c))\n",
    "    \n",
    "    return area\n",
    "\n",
    "#User input for triangle side lengths\n",
    "side_1 = float(input(\"Enter the length of side 1: \"))\n",
    "side_2 = float(input(\"Enter the length of side 2: \"))\n",
    "side_3 = float(input(\"Enter the length of side 3: \"))\n",
    "\n",
    "# Calculate and print the area\n",
    "area = triangleArea(side_1, side_2, side_3)\n",
    "print(\"Area of the triangle:\", area)"
   ]
  },
  {
   "cell_type": "markdown",
   "id": "71e08164",
   "metadata": {},
   "source": [
    "Question4"
   ]
  },
  {
   "cell_type": "code",
   "execution_count": 30,
   "id": "e074637f",
   "metadata": {},
   "outputs": [
    {
     "name": "stdout",
     "output_type": "stream",
     "text": [
      "Input the number of elements to be stored in the array: 5\n",
      "Element - 0: 25\n",
      "Element - 1: 47\n",
      "Element - 2: 42\n",
      "Element - 3: 56\n",
      "Element - 4: 32\n",
      "The even elements include:\n",
      "42 56 32 \n",
      "The odd elements include:\n",
      "25 47 "
     ]
    }
   ],
   "source": [
    "#input the number of elements to be stored\n",
    "number_elements = int(input(\"Input the number of elements to be stored in the array: \"))\n",
    "\n",
    "#Input the elements\n",
    "elements = []\n",
    "for i in range(number_elements):\n",
    "    element = int(input(f\"Element - {i}: \"))\n",
    "    elements.append(element)\n",
    "    \n",
    "# Separate odd and even elements\n",
    "even_elements = []\n",
    "odd_elements = []\n",
    "\n",
    "for element in elements:\n",
    "    if element % 2 == 0:\n",
    "        even_elements.append(element)\n",
    "    else:\n",
    "        odd_elements.append(element)\n",
    "\n",
    "# Print the even elements\n",
    "print(\"The even elements include:\")\n",
    "for even_element in even_elements:\n",
    "    print(even_element, end=\" \")\n",
    "\n",
    "#Print the odd elements\n",
    "print(\"\\nThe odd elements include:\")\n",
    "for odd_element in odd_elements:\n",
    "    print(odd_element, end=\" \")"
   ]
  },
  {
   "cell_type": "markdown",
   "id": "60eb6875",
   "metadata": {},
   "source": [
    "Question5"
   ]
  },
  {
   "cell_type": "code",
   "execution_count": 36,
   "id": "d08578dc",
   "metadata": {},
   "outputs": [
    {
     "name": "stdout",
     "output_type": "stream",
     "text": [
      "True\n",
      "False\n",
      "False\n"
     ]
    }
   ],
   "source": [
    "def inside(x, y, x1, y1, x2, y2):\n",
    "    return x >= x1 and x <= x2 and y >= y1 and y <= y2\n",
    "\n",
    "point_in_rec1 = inside(1, 1, 0, 0, 2, 3)\n",
    "point_in_rec2 = inside(-1, -1, 0, 0, 2, 3)\n",
    "\n",
    "print(point_in_rec1)\n",
    "print(point_in_rec2)\n",
    "\n",
    "point_in_both_rectangles = inside(1, 1, 0.3, 0.5, 1.1, 0.7) and inside (1, 1, 0.5, 0.2, 1.1, 2)\n",
    "print(point_in_both_rectangles)"
   ]
  },
  {
   "cell_type": "markdown",
   "id": "36fd34bc",
   "metadata": {},
   "source": [
    "Question6"
   ]
  },
  {
   "cell_type": "code",
   "execution_count": 37,
   "id": "ad1cfd95",
   "metadata": {},
   "outputs": [
    {
     "name": "stdout",
     "output_type": "stream",
     "text": [
      "Enter the number of words: 2\n",
      "Enter word 1: Happy\n",
      "Enter word 2: Enter\n",
      "The pig in Latin form of 'Happy' is 'appyhay'\n",
      "The pig in Latin form of 'Enter' is 'enterway'\n"
     ]
    }
   ],
   "source": [
    "def pig(word):\n",
    "    vowels = ['a', 'e', 'i', 'o', 'u']\n",
    "    word = word.lower()\n",
    "    \n",
    "    if word[0] in vowels:\n",
    "        pig_word = word + 'way'\n",
    "    else:\n",
    "        pig_word = word[1:] + word[0] + 'ay'\n",
    "    \n",
    "    return pig_word\n",
    "\n",
    "#user input\n",
    "num_words = int(input(\"Enter the number of words: \"))\n",
    "words = []\n",
    "pig_words = []\n",
    "\n",
    "#Get words from the user\n",
    "for i in range(num_words):\n",
    "    word = input(f\"Enter word {i + 1}: \")\n",
    "    words.append(word)\n",
    "    pig_words.append(pig(word))\n",
    "\n",
    "#Display the pig Latin forms\n",
    "for i in range(num_words):\n",
    "    print(f\"The pig in Latin form of '{words[i]}' is '{pig_words[i]}'\")"
   ]
  },
  {
   "cell_type": "markdown",
   "id": "db1ba620",
   "metadata": {},
   "source": [
    "Question7"
   ]
  },
  {
   "cell_type": "code",
   "execution_count": 24,
   "id": "893ddccf",
   "metadata": {},
   "outputs": [
    {
     "name": "stdout",
     "output_type": "stream",
     "text": [
      "There are 15 patients of blood type A.\n",
      "There is 1 patient of blood type B.\n",
      "There are 13 patients of blood type AB.\n",
      "There are 15 patients of blood type O.\n",
      "There are 0 patients of blood type OO.\n"
     ]
    }
   ],
   "source": [
    "def bldcount(filename):\n",
    "    blood_counts = {\n",
    "        'A': 0,\n",
    "        'B': 0,\n",
    "        'AB': 0,\n",
    "        'O': 0,\n",
    "        'OO': 0\n",
    "    }\n",
    "    \n",
    "    with open(filename, 'r') as file:\n",
    "        blood_types = file.read().split()\n",
    "    \n",
    "    for blood_type in blood_types:\n",
    "        if blood_type in blood_counts:\n",
    "            blood_counts[blood_type] += 1\n",
    "    \n",
    "    for blood_type, count in blood_counts.items():\n",
    "        if count == 1:\n",
    "            print(f\"There is 1 patient of blood type {blood_type}.\")\n",
    "        else:\n",
    "            print(f\"There are {count} patients of blood type {blood_type}.\")\n",
    "\n",
    "# Example usage\n",
    "bldcount('bloodtype1.txt')\n"
   ]
  },
  {
   "cell_type": "markdown",
   "id": "72ff05cd",
   "metadata": {},
   "source": [
    "Question8"
   ]
  },
  {
   "cell_type": "code",
   "execution_count": 22,
   "id": "ed2c345d",
   "metadata": {},
   "outputs": [
    {
     "name": "stdout",
     "output_type": "stream",
     "text": [
      "122.96544\n",
      "1.241401\n"
     ]
    }
   ],
   "source": [
    "def curconv(currency, amount):\n",
    "    with open('currencies.txt', 'r') as file:\n",
    "        currency_rates = file.readlines()\n",
    "    \n",
    "    for rate in currency_rates:\n",
    "        fields = rate.split()\n",
    "        if fields[0] == currency:\n",
    "            conversion_rate = float(fields[1])\n",
    "            converted_amount = amount * conversion_rate\n",
    "            return converted_amount\n",
    "    \n",
    "    return None\n",
    "\n",
    "# Example usage\n",
    "usd_amount = curconv('EUR', 100)\n",
    "print(usd_amount)\n",
    "\n",
    "usd_amount = curconv('JPY', 100)\n",
    "print(usd_amount)"
   ]
  },
  {
   "cell_type": "markdown",
   "id": "35e8b9ab",
   "metadata": {},
   "source": [
    "Question9\n",
    "\n",
    "Adding incompatible variable like 6 + 'a' will result in TypeError excpetion. Combining distinct types such as an integer and text is not supported in Python.\n",
    "\n",
    "Referring to the 12th item in a list of 10 items will cause an IndexError.\n",
    "\n",
    "An out og range value for a function's input such as math.sqrt(-1.0), will resuly in ValueError Exception.\n",
    "\n",
    "An undecelared variable like print(x) when x has not been defined will cause a NameError Exception.\n",
    "\n",
    "Trying to open a file that doesn't exist by mistyping the file name or looking in the wrong directory will result in a FileNotFoundError Exception."
   ]
  },
  {
   "cell_type": "markdown",
   "id": "4887bc21",
   "metadata": {},
   "source": [
    "Question10"
   ]
  },
  {
   "cell_type": "code",
   "execution_count": 7,
   "id": "ce5cb9dc",
   "metadata": {},
   "outputs": [
    {
     "name": "stdout",
     "output_type": "stream",
     "text": [
      "Enter the text: The quick red fox got bored and went home\n",
      "[1, 1, 1, 3, 5, 1, 1, 2, 1, 0, 1, 0, 1, 2, 4, 0, 1, 2, 0, 3, 1, 0, 1, 1, 0, 0]\n",
      "Enter the text: apple\n",
      "[1, 0, 0, 0, 1, 0, 0, 0, 0, 0, 0, 1, 0, 0, 0, 2, 0, 0, 0, 0, 0, 0, 0, 0, 0, 0]\n"
     ]
    }
   ],
   "source": [
    "def frequencies(text):\n",
    "    freq_dict = {}\n",
    "    \n",
    "    for char in text.lower():\n",
    "        if char.isalpha():\n",
    "            if char in freq_dict:\n",
    "                freq_dict[char] += 1\n",
    "            else:\n",
    "                freq_dict[char] = 1\n",
    "    \n",
    "    freq_list = [freq_dict.get(chr(ord('a') + i), 0) for i in range(26)]\n",
    "    return freq_list\n",
    "\n",
    "# Example usage\n",
    "text = input(\"Enter the text: \")\n",
    "result = frequencies(text)\n",
    "print(result)\n",
    "\n",
    "# Example usage\n",
    "text = input(\"Enter the text: \")\n",
    "result2 = frequencies(text)\n",
    "print(result2)"
   ]
  },
  {
   "cell_type": "code",
   "execution_count": null,
   "id": "11c9c143",
   "metadata": {},
   "outputs": [],
   "source": []
  }
 ],
 "metadata": {
  "kernelspec": {
   "display_name": "Python 3 (ipykernel)",
   "language": "python",
   "name": "python3"
  },
  "language_info": {
   "codemirror_mode": {
    "name": "ipython",
    "version": 3
   },
   "file_extension": ".py",
   "mimetype": "text/x-python",
   "name": "python",
   "nbconvert_exporter": "python",
   "pygments_lexer": "ipython3",
   "version": "3.10.9"
  }
 },
 "nbformat": 4,
 "nbformat_minor": 5
}
